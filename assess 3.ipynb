{
 "cells": [
  {
   "cell_type": "code",
   "execution_count": 10,
   "metadata": {},
   "outputs": [
    {
     "name": "stdout",
     "output_type": "stream",
     "text": [
      "Connected to MySQL database\n"
     ]
    }
   ],
   "source": [
    "import mysql.connector\n",
    "\n",
    "mydb = mysql.connector.connect(\n",
    "    host=\"localhost\",\n",
    "    user=\"root\",\n",
    "    password=\"123654\",\n",
    "    database=\"mydatabase123\"  \n",
    ")\n",
    "\n",
    "if mydb.is_connected():\n",
    "    print(\"Connected to MySQL database\")"
   ]
  },
  {
   "cell_type": "code",
   "execution_count": 11,
   "metadata": {},
   "outputs": [],
   "source": [
    "mycursor = mydb.cursor()\n",
    "\n",
    "mycursor.execute(\"\"\"\n",
    "    CREATE TABLE IF NOT EXISTS users (\n",
    "        name VARCHAR(255) NOT NULL,\n",
    "        email VARCHAR(255) UNIQUE,\n",
    "        address VARCHAR(255)\n",
    "    )\n",
    "\"\"\")\n",
    "\n",
    "def insert_user(name, email, address):\n",
    "    try:\n",
    "        sql = \"INSERT INTO users (name, email, address) VALUES (%s, %s, %s)\"\n",
    "        val = (name, email, address)\n",
    "        mycursor.execute(sql, val)\n",
    "        mydb.commit()\n",
    "        print(\"User inserted successfully.\")\n",
    "    except mysql.connector.Error as err:\n",
    "        print(f\"Error: {err}\")"
   ]
  },
  {
   "cell_type": "code",
   "execution_count": 15,
   "metadata": {},
   "outputs": [
    {
     "name": "stdout",
     "output_type": "stream",
     "text": [
      "Error: 1062 (23000): Duplicate entry 'piyush123@gmail.com' for key 'users.email'\n"
     ]
    }
   ],
   "source": [
    "name = input(\"Name : \")\n",
    "email = input(\"Unique Email ID: \")\n",
    "address = input(\"Address: \")\n",
    "\n",
    "insert_user(name, email, address)"
   ]
  },
  {
   "cell_type": "code",
   "execution_count": 14,
   "metadata": {},
   "outputs": [
    {
     "name": "stdout",
     "output_type": "stream",
     "text": [
      "(1, 'Peter', 'peter@example.com', 'Banjara Hills, Hyderabad')\n",
      "(2, 'Piyush', 'piyush123@gmail.com', 'punjab')\n",
      "(4, 'alanka', 'alanka98983@gmail.com', 'delhi')\n",
      "(6, 'Piyush', 'Piyush.gala@email.com', 'jharkhand')\n"
     ]
    }
   ],
   "source": [
    "mycursor = mydb.cursor()\n",
    "\n",
    "mycursor.execute(\"SELECT * FROM users\")\n",
    "\n",
    "myresult = mycursor.fetchall()\n",
    "\n",
    "for x in myresult:\n",
    "  print(x)"
   ]
  },
  {
   "cell_type": "code",
   "execution_count": null,
   "metadata": {},
   "outputs": [],
   "source": []
  }
 ],
 "metadata": {
  "kernelspec": {
   "display_name": "Python 3",
   "language": "python",
   "name": "python3"
  },
  "language_info": {
   "codemirror_mode": {
    "name": "ipython",
    "version": 3
   },
   "file_extension": ".py",
   "mimetype": "text/x-python",
   "name": "python",
   "nbconvert_exporter": "python",
   "pygments_lexer": "ipython3",
   "version": "3.12.4"
  }
 },
 "nbformat": 4,
 "nbformat_minor": 2
}
