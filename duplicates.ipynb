{
 "cells": [
  {
   "cell_type": "markdown",
   "metadata": {},
   "source": [
    "'>remove duplicates from an array of people names. \n",
    "use error handling"
   ]
  },
  {
   "cell_type": "code",
   "execution_count": 1,
   "metadata": {},
   "outputs": [],
   "source": [
    "def remove_duplicates(arr):\n",
    "    try:\n",
    "        new_arr = []             \n",
    "        for i in arr:\n",
    "            if i not in new_arr:\n",
    "                new_arr.append(i)\n",
    "\n",
    "                if len(new_arr) == len(arr):\n",
    "                    raise ValueError(\"No duplicates found in array.\")\n",
    "                                   \n",
    "        return new_arr\n",
    "    except Exception as e:\n",
    "        print(f\"Error in function: {e}\")\n",
    "        return []"
   ]
  },
  {
   "cell_type": "code",
   "execution_count": 2,
   "metadata": {},
   "outputs": [
    {
     "name": "stdout",
     "output_type": "stream",
     "text": [
      "Before:\n",
      "['anushka', 'shukla', 'dikshit', 'manisha', 'manoj', 'akshay', 'sona', 'pooja', 'anushka']\n",
      "After:\n",
      "['anushka', 'shukla', 'dikshit', 'manisha', 'manoj', 'akshay', 'sona', 'pooja']\n"
     ]
    }
   ],
   "source": [
    "try:\n",
    "    arr = ['anushka', 'shukla', 'dikshit', 'manisha', 'manoj', 'akshay', 'sona','pooja','anushka']\n",
    "    print(\"Before:\")\n",
    "    print(arr)  \n",
    "\n",
    "    new_arr = remove_duplicates(arr)\n",
    "    print(\"After:\")\n",
    "    print(new_arr)\n",
    "        \n",
    "except Exception as e:\n",
    "    print(f\"Error in main program: {e}\")"
   ]
  },
  {
   "cell_type": "code",
   "execution_count": null,
   "metadata": {},
   "outputs": [],
   "source": []
  }
 ],
 "metadata": {
  "kernelspec": {
   "display_name": "Python 3",
   "language": "python",
   "name": "python3"
  },
  "language_info": {
   "codemirror_mode": {
    "name": "ipython",
    "version": 3
   },
   "file_extension": ".py",
   "mimetype": "text/x-python",
   "name": "python",
   "nbconvert_exporter": "python",
   "pygments_lexer": "ipython3",
   "version": "3.12.4"
  }
 },
 "nbformat": 4,
 "nbformat_minor": 2
}
