{
 "cells": [
  {
   "cell_type": "markdown",
   "metadata": {},
   "source": [
    "Print the count of vowels in the given string using while loop"
   ]
  },
  {
   "cell_type": "code",
   "execution_count": 1,
   "metadata": {},
   "outputs": [
    {
     "name": "stdout",
     "output_type": "stream",
     "text": [
      "here is An apple has 6 vowels\n"
     ]
    }
   ],
   "source": [
    "string = input(\"Enter a string: \")\n",
    "vowels = \"aeiouAEIOU\"\n",
    "count = 0\n",
    "i = 0\n",
    "while i<len(string):\n",
    "    if string[i] in vowels:\n",
    "        count+=1\n",
    "    i+=1\n",
    "print(f\"{string} has {count} vowels\")"
   ]
  },
  {
   "cell_type": "markdown",
   "metadata": {},
   "source": [
    "Print the date by adding the given number of days"
   ]
  },
  {
   "cell_type": "code",
   "execution_count": 2,
   "metadata": {},
   "outputs": [],
   "source": [
    "from datetime import datetime, timedelta\n",
    "\n",
    "def func1(date, days_to_add):\n",
    "    new_date = date + timedelta(days_to_add)\n",
    "    return new_date"
   ]
  },
  {
   "cell_type": "code",
   "execution_count": 3,
   "metadata": {},
   "outputs": [],
   "source": [
    "date_entry1 = input(\"Enter the first date (YYYY-MM-DD): \")\n",
    "year1, month1, day1 = map(int, date_entry1.split('-'))\n",
    "date1 = datetime(year1, month1, day1)\n",
    "\n",
    "days_input = input(\"Enter number of days to add: \")"
   ]
  },
  {
   "cell_type": "code",
   "execution_count": 4,
   "metadata": {},
   "outputs": [
    {
     "name": "stdout",
     "output_type": "stream",
     "text": [
      "Original date: 2020-10-10\n",
      "New date after adding 5 days: 2020-10-15\n"
     ]
    }
   ],
   "source": [
    "try:\n",
    "    days_to_add = int(days_input)\n",
    "except ValueError:\n",
    "    print(\"Invalid input for number of days. Please enter a valid integer.\")\n",
    "    exit()\n",
    "\n",
    "new_date = func1(date1, days_to_add)\n",
    "\n",
    "print(f\"Original date: {date1.date()}\")\n",
    "print(f\"New date after adding {days_to_add} days: {new_date.date()}\")"
   ]
  },
  {
   "cell_type": "markdown",
   "metadata": {},
   "source": [
    "Write a program to perfrom below functions Consider a list (list = []). You can perform the following commands:\n",
    " \n",
    "insert i e: Insert integer  at position . <br>\n",
    "print: Print the list.<br>\n",
    "remove e: Delete the first occurrence of integer .<br>\n",
    "append e: Insert integer  at the end of the list.<br>\n",
    "sort: Sort the list.<br>\n",
    "pop: Pop the last element from the list.<br>\n",
    "reverse: Reverse the list."
   ]
  },
  {
   "cell_type": "code",
   "execution_count": 5,
   "metadata": {},
   "outputs": [],
   "source": [
    "my_list = [1,2,3,4,5,4]"
   ]
  },
  {
   "cell_type": "code",
   "execution_count": 6,
   "metadata": {},
   "outputs": [],
   "source": [
    "def insert_int(i, e):\n",
    "    global my_list\n",
    "    my_list.insert(i, e)\n",
    "    print(f\"{e} inserted successfully at position {i}\")\n",
    "\n",
    "def print_int():\n",
    "    global my_list\n",
    "    print(\"Current list:\", my_list)\n",
    "\n",
    "def remove_int(e):\n",
    "    global my_list\n",
    "    if e in my_list:\n",
    "        my_list.remove(e)\n",
    "        print(\"Removed\")\n",
    "    else:\n",
    "        print(f\"{e} is not in the list.\")\n",
    "\n",
    "def append_int(e):\n",
    "    global my_list\n",
    "    my_list.append(e)\n",
    "    print(\"Appended: \",my_list)\n",
    "def sort_int():\n",
    "    global my_list\n",
    "    my_list.sort()\n",
    "    print(\"sorted list: \",my_list)\n",
    "\n",
    "def pop_int():\n",
    "    global my_list\n",
    "    if my_list:\n",
    "        my_list.pop()\n",
    "        print(\"Popped, new list : \",my_list)\n",
    "    else:\n",
    "        print(\"List is empty, cannot pop.\")\n",
    "        \n",
    "def reverse_int():\n",
    "    global my_list\n",
    "    my_list.reverse()\n",
    "    print(\"Reversed list: \",my_list)"
   ]
  },
  {
   "cell_type": "code",
   "execution_count": 7,
   "metadata": {},
   "outputs": [
    {
     "name": "stdout",
     "output_type": "stream",
     "text": [
      "\n",
      "    1. Insert: insert integer i at position e\n",
      "    2. Print: print the list\n",
      "    3. Remove: delete integer 'e' at first occurrence\n",
      "    4. Append: insert integer at the end of list\n",
      "    5. Sort: sort the list\n",
      "    6. Pop: pop the last element from the list\n",
      "    7. Reverse: reverse the list\n",
      "    8. Exit\n",
      "    \n",
      "Current list: [1, 2, 3, 4, 5, 4]\n",
      "\n",
      "    1. Insert: insert integer i at position e\n",
      "    2. Print: print the list\n",
      "    3. Remove: delete integer 'e' at first occurrence\n",
      "    4. Append: insert integer at the end of list\n",
      "    5. Sort: sort the list\n",
      "    6. Pop: pop the last element from the list\n",
      "    7. Reverse: reverse the list\n",
      "    8. Exit\n",
      "    \n",
      "Exiting program.\n"
     ]
    }
   ],
   "source": [
    "ans = True\n",
    "while ans:\n",
    "    print(\"\"\"\n",
    "    1. Insert: insert integer i at position e\n",
    "    2. Print: print the list\n",
    "    3. Remove: delete integer 'e' at first occurrence\n",
    "    4. Append: insert integer at the end of list\n",
    "    5. Sort: sort the list\n",
    "    6. Pop: pop the last element from the list\n",
    "    7. Reverse: reverse the list\n",
    "    8. Exit\n",
    "    \"\"\")\n",
    "    ans = input(\"What would you like to do? \")\n",
    "\n",
    "    if ans == \"1\":\n",
    "        i = int(input(\"Enter position i: \"))\n",
    "        e = int(input(\"Enter integer e: \"))\n",
    "        insert_int(i, e)\n",
    "    elif ans == \"2\":\n",
    "        print_int()\n",
    "    elif ans == \"3\":\n",
    "        e = int(input(\"Enter integer e to remove: \"))\n",
    "        remove_int(e)\n",
    "    elif ans == \"4\":\n",
    "        e = int(input(\"Enter integer to append: \"))\n",
    "        append_int(e)\n",
    "    elif ans == \"5\":\n",
    "        sort_int()\n",
    "    elif ans == \"6\":\n",
    "        pop_int()\n",
    "    elif ans == \"7\":\n",
    "        reverse_int()\n",
    "    elif ans == \"8\":\n",
    "        print(\"Exiting program.\")\n",
    "        ans = False\n",
    "    else:\n",
    "        print(\"\\nNot Valid Choice. Try again.\")"
   ]
  },
  {
   "cell_type": "markdown",
   "metadata": {},
   "source": [
    "write a program to read a csv file and display - Pandas"
   ]
  },
  {
   "cell_type": "code",
   "execution_count": 8,
   "metadata": {},
   "outputs": [],
   "source": [
    "import pandas as pd\n",
    "import numpy as np\n",
    "\n",
    "df = pd.read_csv(\"cardata.csv\")"
   ]
  },
  {
   "cell_type": "code",
   "execution_count": 9,
   "metadata": {},
   "outputs": [
    {
     "data": {
      "text/html": [
       "<div>\n",
       "<style scoped>\n",
       "    .dataframe tbody tr th:only-of-type {\n",
       "        vertical-align: middle;\n",
       "    }\n",
       "\n",
       "    .dataframe tbody tr th {\n",
       "        vertical-align: top;\n",
       "    }\n",
       "\n",
       "    .dataframe thead th {\n",
       "        text-align: right;\n",
       "    }\n",
       "</style>\n",
       "<table border=\"1\" class=\"dataframe\">\n",
       "  <thead>\n",
       "    <tr style=\"text-align: right;\">\n",
       "      <th></th>\n",
       "      <th>Car_Name</th>\n",
       "      <th>Year</th>\n",
       "      <th>Selling_Price</th>\n",
       "      <th>Present_Price</th>\n",
       "      <th>Kms_Driven</th>\n",
       "      <th>Fuel_Type</th>\n",
       "      <th>Seller_Type</th>\n",
       "      <th>Transmission</th>\n",
       "      <th>Owner</th>\n",
       "    </tr>\n",
       "  </thead>\n",
       "  <tbody>\n",
       "    <tr>\n",
       "      <th>0</th>\n",
       "      <td>ritz</td>\n",
       "      <td>2014</td>\n",
       "      <td>3.35</td>\n",
       "      <td>5.59</td>\n",
       "      <td>27000</td>\n",
       "      <td>Petrol</td>\n",
       "      <td>Dealer</td>\n",
       "      <td>Manual</td>\n",
       "      <td>0</td>\n",
       "    </tr>\n",
       "    <tr>\n",
       "      <th>1</th>\n",
       "      <td>sx4</td>\n",
       "      <td>2013</td>\n",
       "      <td>4.75</td>\n",
       "      <td>9.54</td>\n",
       "      <td>43000</td>\n",
       "      <td>Diesel</td>\n",
       "      <td>Dealer</td>\n",
       "      <td>Manual</td>\n",
       "      <td>0</td>\n",
       "    </tr>\n",
       "    <tr>\n",
       "      <th>2</th>\n",
       "      <td>ciaz</td>\n",
       "      <td>2017</td>\n",
       "      <td>7.25</td>\n",
       "      <td>9.85</td>\n",
       "      <td>6900</td>\n",
       "      <td>Petrol</td>\n",
       "      <td>Dealer</td>\n",
       "      <td>Manual</td>\n",
       "      <td>0</td>\n",
       "    </tr>\n",
       "    <tr>\n",
       "      <th>3</th>\n",
       "      <td>wagon r</td>\n",
       "      <td>2011</td>\n",
       "      <td>2.85</td>\n",
       "      <td>4.15</td>\n",
       "      <td>5200</td>\n",
       "      <td>Petrol</td>\n",
       "      <td>Dealer</td>\n",
       "      <td>Manual</td>\n",
       "      <td>0</td>\n",
       "    </tr>\n",
       "    <tr>\n",
       "      <th>4</th>\n",
       "      <td>swift</td>\n",
       "      <td>2014</td>\n",
       "      <td>4.60</td>\n",
       "      <td>6.87</td>\n",
       "      <td>42450</td>\n",
       "      <td>Diesel</td>\n",
       "      <td>Dealer</td>\n",
       "      <td>Manual</td>\n",
       "      <td>0</td>\n",
       "    </tr>\n",
       "  </tbody>\n",
       "</table>\n",
       "</div>"
      ],
      "text/plain": [
       "  Car_Name  Year  Selling_Price  Present_Price  Kms_Driven Fuel_Type  \\\n",
       "0     ritz  2014           3.35           5.59       27000    Petrol   \n",
       "1      sx4  2013           4.75           9.54       43000    Diesel   \n",
       "2     ciaz  2017           7.25           9.85        6900    Petrol   \n",
       "3  wagon r  2011           2.85           4.15        5200    Petrol   \n",
       "4    swift  2014           4.60           6.87       42450    Diesel   \n",
       "\n",
       "  Seller_Type Transmission  Owner  \n",
       "0      Dealer       Manual      0  \n",
       "1      Dealer       Manual      0  \n",
       "2      Dealer       Manual      0  \n",
       "3      Dealer       Manual      0  \n",
       "4      Dealer       Manual      0  "
      ]
     },
     "execution_count": 9,
     "metadata": {},
     "output_type": "execute_result"
    }
   ],
   "source": [
    "df.head()"
   ]
  },
  {
   "cell_type": "markdown",
   "metadata": {},
   "source": [
    "write a program to return numbers of weeks in a give year and month"
   ]
  },
  {
   "cell_type": "code",
   "execution_count": 12,
   "metadata": {},
   "outputs": [
    {
     "name": "stdout",
     "output_type": "stream",
     "text": [
      "Number of weeks in July, 2024: 5\n"
     ]
    }
   ],
   "source": [
    "import calendar\n",
    "def num_weeks_in_month(year, month):\n",
    "    month_matrix = calendar.monthcalendar(year, month)\n",
    "    num_weeks = len(month_matrix)\n",
    "\n",
    "    return num_weeks\n",
    "\n",
    "year_input = int(input(\"Enter the year: \"))\n",
    "month_input = int(input(\"Enter the month (1-12): \"))\n",
    "\n",
    "if month_input < 1 or month_input > 12:\n",
    "    print(\"Invalid month input. Please enter a number between 1 and 12.\")\n",
    "else:\n",
    "    num_weeks = num_weeks_in_month(year_input, month_input)\n",
    "    print(f\"Number of weeks in {calendar.month_name[month_input]}, {year_input}: {num_weeks}\")"
   ]
  },
  {
   "cell_type": "markdown",
   "metadata": {},
   "source": [
    "Write a program to accept length of array and accept the numbers as per given length and print the second highest of it"
   ]
  },
  {
   "cell_type": "code",
   "execution_count": 13,
   "metadata": {},
   "outputs": [],
   "source": [
    "def find_second_highest(arr):\n",
    "    max_num = arr[0]\n",
    "    second_max = float('-inf')  \n",
    "    for num in arr:\n",
    "        if num > max_num:\n",
    "            second_max = max_num\n",
    "            max_num = num\n",
    "        elif num > second_max and num != max_num:\n",
    "            second_max = num\n",
    "\n",
    "    return second_max"
   ]
  },
  {
   "cell_type": "code",
   "execution_count": 14,
   "metadata": {},
   "outputs": [
    {
     "name": "stdout",
     "output_type": "stream",
     "text": [
      "The second highest number in the array is: 2\n"
     ]
    }
   ],
   "source": [
    "length = int(input(\"Enter the length of the array: \"))\n",
    "arr = []\n",
    "for i in range(length):\n",
    "    num = int(input(f\"Enter element {i+1}: \"))\n",
    "    arr.append(num)\n",
    "\n",
    "if length < 2:\n",
    "    print(\"Array length should be at least 2 to find the second highest.\")\n",
    "else:\n",
    "    second_highest = find_second_highest(arr)\n",
    "    if second_highest == float('-inf'):\n",
    "        print(\"There is no second highest number in the array.\")\n",
    "    else:\n",
    "        print(f\"The second highest number in the array is: {second_highest}\")\n"
   ]
  },
  {
   "cell_type": "markdown",
   "metadata": {},
   "source": [
    "Write a program to filter and display the values from dictionary based on given input"
   ]
  },
  {
   "cell_type": "code",
   "execution_count": 15,
   "metadata": {},
   "outputs": [],
   "source": [
    "my_dict = {\"Anushka\":2002,\"Pooja\":1972,\"Anya\":2007,\"Vivek\":1972}"
   ]
  },
  {
   "cell_type": "code",
   "execution_count": 16,
   "metadata": {},
   "outputs": [
    {
     "name": "stdout",
     "output_type": "stream",
     "text": [
      "Anushka has a DOB Year : 2002\n"
     ]
    }
   ],
   "source": [
    "name = input(\"Enter name to find DOB\")\n",
    "if name in my_dict:\n",
    "    print(f\"{name} has a DOB Year : {my_dict[name]}\")"
   ]
  },
  {
   "cell_type": "markdown",
   "metadata": {},
   "source": [
    "Write a NumPy program to create a 3x3 matrix with values ranging from 2 to 10."
   ]
  },
  {
   "cell_type": "code",
   "execution_count": 26,
   "metadata": {},
   "outputs": [
    {
     "name": "stdout",
     "output_type": "stream",
     "text": [
      "[[ 2  3  4]\n",
      " [ 5  6  7]\n",
      " [ 8  9 10]]\n",
      "2\n"
     ]
    }
   ],
   "source": [
    "import numpy as np\n",
    "arr = np.arange(2,11)\n",
    "m=arr.reshape(3,3)\n",
    "print(m)\n",
    "print(m.ndim)"
   ]
  },
  {
   "cell_type": "markdown",
   "metadata": {},
   "source": [
    "Write a NumPy program to append values to the end of an array."
   ]
  },
  {
   "cell_type": "code",
   "execution_count": 18,
   "metadata": {},
   "outputs": [
    {
     "name": "stdout",
     "output_type": "stream",
     "text": [
      "[1 2 3 6]\n"
     ]
    }
   ],
   "source": [
    "l = [1,2,3]\n",
    "a = int(input(\"Enter value to be appended\"))\n",
    "x =np.append(l,a)\n",
    "print(x)"
   ]
  },
  {
   "cell_type": "code",
   "execution_count": null,
   "metadata": {},
   "outputs": [],
   "source": []
  }
 ],
 "metadata": {
  "kernelspec": {
   "display_name": "Python 3",
   "language": "python",
   "name": "python3"
  },
  "language_info": {
   "codemirror_mode": {
    "name": "ipython",
    "version": 3
   },
   "file_extension": ".py",
   "mimetype": "text/x-python",
   "name": "python",
   "nbconvert_exporter": "python",
   "pygments_lexer": "ipython3",
   "version": "3.12.4"
  }
 },
 "nbformat": 4,
 "nbformat_minor": 2
}
